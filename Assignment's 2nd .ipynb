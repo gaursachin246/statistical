{
 "cells": [
  {
   "cell_type": "code",
   "execution_count": 1,
   "id": "59d592e3-bef5-4705-9adb-410f8284e434",
   "metadata": {},
   "outputs": [],
   "source": [
    " ## Q.1 What are the three measures of central tendency?\n",
    "    \n",
    "  #  Answer_is = The three measures of central tendency are:\n",
    "\n",
    "# mean - example, the mean of the set {2, 3, 5, 7, 11} is (2+3+5+7+11)/5 = 5.6.\n",
    "# median- example, the median of the set {3, 5, 7, 9, 11} is 7, and for the set {3, 5, 7, 9}, the median is (5+7)/2 = 6.\n",
    "# mode .  example, in the set {1, 2, 2, 3, 4}, the mode is 2, and in the set {1, 1, 2, 2, 3}, the modes are 1 and 2 (bimodal)"
   ]
  },
  {
   "cell_type": "code",
   "execution_count": 2,
   "id": "71a70570-0e7d-4e6e-b0bd-d8ecda3a2a77",
   "metadata": {},
   "outputs": [],
   "source": [
    "## Q.2 What is the difference between the mean, median, and mode? How are they used to measure the centraten of a dataset?\n",
    "\n",
    "#### mean is \n",
    "#The mean, median, and mode are all measures of central tendency that describe the center or typical value of a dataset, but they do so in different ways and are used in various contexts depending on the nature of the data and the desired analysis.\n",
    " # - Calculation:--- The mean is the arithmetic average of all values in the dataset. It is calculated by summing all the values and dividing by the number of values.\n",
    "#Example: For the dataset {2, 3, 5, 7, 11}, the mean is (2+3+5+7+11)/5 = 5.6.\n",
    "\n",
    "\n",
    "#### median\n",
    "# Calculation: The median is the middle value when the data values are arranged in ascending or descending order. If there is an even number of observations, the median is the average of the two middle values.\n",
    "#Example: For the dataset {3, 5, 7, 9, 11}, the median is 7. For the dataset {3, 5, 7, 9}, the median is (5+7)/2 = 6\n",
    "\n",
    "#### mode \n",
    "# Calculation: The mode is the value that occurs most frequently in the dataset. A dataset can have one mode, more than one mode (bimodal or multimodal), or no mode if no value repeats.\n",
    "#Example: For the dataset {1, 2, 2, 3, 4}, the mode is 2. For the dataset {1, 1, 2, 2, 3}, the modes are 1 and 2 (bimodal).\n",
    "\n"
   ]
  },
  {
   "cell_type": "code",
   "execution_count": 23,
   "id": "49139433-6919-4779-aa2e-251e30334d09",
   "metadata": {},
   "outputs": [],
   "source": [
    "# Q.3 Measure the three measures of central tendency for the given height data:\n",
    "# [178,177,176,177,178.2,178,175,179,180,175,178.9,176.2,177,172.5,178,176.5]\n",
    "# mode = 177-178\n"
   ]
  },
  {
   "cell_type": "code",
   "execution_count": 8,
   "id": "116c26d3-d8e8-4f64-bd8e-0e948484c97a",
   "metadata": {},
   "outputs": [],
   "source": [
    "height = [178,177,176,177,178.2,178,175,179,180,175,178.9,176.2,177,172.5,178,176.5]\n"
   ]
  },
  {
   "cell_type": "code",
   "execution_count": 16,
   "id": "b4583742-ad4c-4043-bfb5-f714dc01cf33",
   "metadata": {},
   "outputs": [
    {
     "data": {
      "text/plain": [
       "177.01875"
      ]
     },
     "execution_count": 16,
     "metadata": {},
     "output_type": "execute_result"
    }
   ],
   "source": [
    "np.mean(height)"
   ]
  },
  {
   "cell_type": "code",
   "execution_count": 20,
   "id": "032c568a-6411-4332-8f45-5e544b3997e6",
   "metadata": {},
   "outputs": [
    {
     "data": {
      "text/plain": [
       "177.0"
      ]
     },
     "execution_count": 20,
     "metadata": {},
     "output_type": "execute_result"
    }
   ],
   "source": [
    "np.median(height)"
   ]
  },
  {
   "cell_type": "code",
   "execution_count": 18,
   "id": "f7126013-91eb-4ebe-a8cc-f26dd775e0e6",
   "metadata": {},
   "outputs": [],
   "source": [
    "from scipy import stats\n"
   ]
  },
  {
   "cell_type": "code",
   "execution_count": 19,
   "id": "6b05ef3c-edea-4929-aec2-62568a9c3504",
   "metadata": {},
   "outputs": [
    {
     "name": "stderr",
     "output_type": "stream",
     "text": [
      "/tmp/ipykernel_77/1690947930.py:1: FutureWarning: Unlike other reduction functions (e.g. `skew`, `kurtosis`), the default behavior of `mode` typically preserves the axis it acts along. In SciPy 1.11.0, this behavior will change: the default value of `keepdims` will become False, the `axis` over which the statistic is taken will be eliminated, and the value None will no longer be accepted. Set `keepdims` to True or False to avoid this warning.\n",
      "  stats.mode(height)\n"
     ]
    },
    {
     "data": {
      "text/plain": [
       "ModeResult(mode=array([177.]), count=array([3]))"
      ]
     },
     "execution_count": 19,
     "metadata": {},
     "output_type": "execute_result"
    }
   ],
   "source": [
    "stats.mode(height)"
   ]
  },
  {
   "cell_type": "code",
   "execution_count": 24,
   "id": "a3e96cee-9155-40a2-835e-5acba369df06",
   "metadata": {},
   "outputs": [],
   "source": [
    "#### Q4. Find the standard deviation for the given data:\n",
    "####[178,177,176,177,178.2,178,175,179,180,175,178.9,176.2,177,172.5,178,176.5]\n",
    "#Calculate the mean (average) of the data."
   ]
  },
  {
   "cell_type": "code",
   "execution_count": 27,
   "id": "feccfa74-0e6a-4cd9-90ed-8cbe8fec6da8",
   "metadata": {},
   "outputs": [],
   "source": [
    "import numpy as np"
   ]
  },
  {
   "cell_type": "code",
   "execution_count": 25,
   "id": "79e9965a-00e8-4d56-8a94-f508b2c9ce05",
   "metadata": {},
   "outputs": [],
   "source": [
    "\n",
    "x = [178,177,176,177,178.2,178,175,179,180,175,178.9,176.2,177,172.5,178,176.5]"
   ]
  },
  {
   "cell_type": "code",
   "execution_count": 29,
   "id": "11fe7e36-d964-4dc7-b9fc-f592cf33e84a",
   "metadata": {},
   "outputs": [
    {
     "data": {
      "text/plain": [
       "177.01875"
      ]
     },
     "execution_count": 29,
     "metadata": {},
     "output_type": "execute_result"
    }
   ],
   "source": [
    "np.mean(x)"
   ]
  },
  {
   "cell_type": "code",
   "execution_count": 31,
   "id": "2294dfcc-3f03-4d8e-b58e-a0488e516373",
   "metadata": {},
   "outputs": [],
   "source": [
    "#### Q.5 How are measures of dispersion such as range, variance, and standard deviation used to describe the spread of a dataset? Provide an example.\n",
    "## Range: The simplest measure, calculated by subtracting the smallest value from the largest value. It gives the spread of the data, but is sensitive to outliers.\n",
    "#--Example: Dataset [1, 2, 3, 4, 5] has a range of 4 (5-1).\n",
    " \n",
    "    \n",
    "## 1. Variance: The average of the squared differences from the mean. It's sensitive to outliers, but provides a better representation of the spread than the range.\n",
    "# Example: Dataset [1, 2, 3, 4, 5] has a variance of 2.\n",
    "\n",
    "## 1. Standard Deviation (SD): The square root of the variance. It's the most commonly used measure, as it's easy to interpret and less sensitive to outliers.\n",
    "\n",
    "#Example: Dataset [1, 2, 3, 4, 5] has an SD of √2 ≈ 1.41.\n",
    "\n",
    "\n"
   ]
  },
  {
   "cell_type": "code",
   "execution_count": 32,
   "id": "b5c819e5-780d-4fcf-b806-74c75f11fc5d",
   "metadata": {},
   "outputs": [],
   "source": [
    "#### Q.6 What is a Venn diagram?\n",
    "\n",
    "## A Venn diagram is a visual representation of sets and their relationships, using overlapping circles to illustrate:\n",
    "\n",
    "# 1. Union (all elements in either set)\n",
    "# 2. Intersection (elements common to both sets)\n",
    "# 3. Difference (elements in one set but not the other"
   ]
  },
  {
   "cell_type": "code",
   "execution_count": 34,
   "id": "bd681480-b496-4bf7-8efa-51f00a049eb9",
   "metadata": {},
   "outputs": [],
   "source": [
    "##### Q.7 For the two given sets A = (2,3,4,5,6,7) & B = (0,2,6,8,10). Find:\n",
    "#####(i) A B\n",
    "####(ii) A ⋃ B\n",
    "\n",
    "\n",
    "#(i) A ∩ B (Intersection of A and B)\n",
    "# A ∩ B = {elements common to both A and B}\n",
    "# = {2, 6}\n",
    "\n",
    "\n",
    "# (ii) A ⋃ B (Union of A and B)\n",
    "# A ⋃ B = {all elements in A or B or both}\n",
    "#= {0, 2, 3, 4, 5, 6, 7, 8, 10}"
   ]
  },
  {
   "cell_type": "code",
   "execution_count": 36,
   "id": "d5cb32cc-2908-40b7-a152-def66f833fc2",
   "metadata": {},
   "outputs": [],
   "source": [
    "###### Q.8 What do you understand about skewness in data?\n",
    "\n",
    "\n",
    "## Skewness is a measure of the asymmetry of a probability distribution or a dataset. It describes how much the data deviates from a perfectly symmetrical distribution, like a normal distribution.\n",
    "# 1 Positive (+) (Right-Skewed)\n",
    "# 2 Negative (-) (left skewed)\n",
    "# 3 Zero (Symmetrical Distribution)"
   ]
  },
  {
   "cell_type": "code",
   "execution_count": 38,
   "id": "39644386-a442-4feb-8063-063daa1f1f26",
   "metadata": {},
   "outputs": [],
   "source": [
    "##### Q9. If a data is right skewed then what will be the position of median with respect to mean?\n",
    " \n",
    "\n",
    "# If a dataset is right-skewed (positively skewed), the distribution has a longer or fatter tail on the right side. In this case, the position of the median with respect to the mean is as follows:\n",
    "\n",
    "# Mean: The mean is affected by the higher values in the tail and will be pulled to the right.\n",
    "# Median: The median is the middle value when the data is ordered and is less affected by the extreme values.    \n",
    "# Right-skewed distribution: \n",
    "# So, in a right-skewed distribution:\n",
    "\n",
    "# Mean>Median"
   ]
  },
  {
   "cell_type": "code",
   "execution_count": 40,
   "id": "0d111223-5ef8-4c3d-a23a-d520275a8c95",
   "metadata": {},
   "outputs": [],
   "source": [
    "##### Q11. What is the formula for calculating the sample mean? Provide an example calculation for a dataset ?\n",
    "\n",
    "\n",
    "# The formula for calculating the sample mean (x̄) is:\n",
    "\n",
    "# x̄ = (Σx) / n\n",
    "\n",
    "# Where:\n",
    "\n",
    "#- x̄ = sample mean\n",
    "#- Σx = sum of all data points\n",
    "#- n = sample size (number of data points)\n",
    "\n",
    "#Example calculation:\n",
    "\n",
    "#Dataset: 2, 4, 6, 8, 10\n",
    "\n",
    "#Step 1: Calculate the sum of all data points (Σx)\n",
    "#Σx = 2 + 4 + 6 + 8 + 10 = 30\n",
    "\n",
    "#Step 2: Calculate the sample size (n)\n",
    "#n = 5 (since there are 5 data points)\n",
    "\n",
    "#Step 3: Calculate the sample mean (x̄)\n",
    "#x̄ = Σx / n = 30 / 5 = 6\n",
    "\n",
    "# Therefore, the sample mean of the dataset is 6.\n"
   ]
  },
  {
   "cell_type": "code",
   "execution_count": 41,
   "id": "633fe8ea-c29b-4fc5-90d1-de71b8234171",
   "metadata": {},
   "outputs": [],
   "source": [
    "##### Q12. For a normal distribution data what is the relationship between its measure of central tendency?\n",
    "\n",
    "\n",
    "\n",
    "#For a normal distribution, the measures of central tendency are:\n",
    "\n",
    "#1. Mean (μ)\n",
    "#2. Median (M)\n",
    "#3. Mode (Mo)\n",
    "\n",
    "#The relationship between these measures is:\n",
    "\n",
    "#μ = M = Mo\n",
    "\n",
    "# In other words, for a normal distribution:\n"
   ]
  },
  {
   "cell_type": "code",
   "execution_count": 42,
   "id": "beb91abd-7bdd-468c-bd79-51346e8da604",
   "metadata": {},
   "outputs": [],
   "source": [
    "####  Q13. How is covariance different from correlation?\n",
    "\n",
    "# Covariance and correlation are both measures of the relationship between two variables, but they differ in their scale and interpretation:\n",
    "#1 = Covariance:\n",
    "#2 = correlations "
   ]
  },
  {
   "cell_type": "code",
   "execution_count": null,
   "id": "e44ec33f-8d2a-4747-9f06-6fbe9e4ffb0d",
   "metadata": {},
   "outputs": [],
   "source": [
    "#### Q14. How do outliers affect measures of central tendency and dispersion? Provide an example.\n",
    "\n",
    "\n",
    "\n",
    "\n",
    "# Example:\n",
    "\n",
    "#Data: 1, 2, 3, 4, 5, 100 (outlier)\n",
    "\n",
    "#- Mean: 18.17 (affected by outlier)\n",
    "#- Median: 3 (less affected by outlier)\n",
    "#- Mode: 1 (not affected by outlier)\n",
    "#- Range: 99 (increased by outlier)\n",
    "#- Variance and Standard Deviation: greatly increased by outlier\n"
   ]
  }
 ],
 "metadata": {
  "kernelspec": {
   "display_name": "Python 3 (ipykernel)",
   "language": "python",
   "name": "python3"
  },
  "language_info": {
   "codemirror_mode": {
    "name": "ipython",
    "version": 3
   },
   "file_extension": ".py",
   "mimetype": "text/x-python",
   "name": "python",
   "nbconvert_exporter": "python",
   "pygments_lexer": "ipython3",
   "version": "3.10.8"
  }
 },
 "nbformat": 4,
 "nbformat_minor": 5
}
